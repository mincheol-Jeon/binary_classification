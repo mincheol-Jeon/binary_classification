{
  "cells": [
    {
      "cell_type": "code",
      "execution_count": null,
      "metadata": {
        "id": "cB5NYtSpixde"
      },
      "outputs": [],
      "source": [
        "import pandas as pd\n",
        "import numpy as np\n",
        "from sklearn.model_selection import train_test_split\n",
        "from sklearn.preprocessing import StandardScaler\n",
        "\n",
        "from sklearn.neural_network import MLPClassifier\n",
        "from sklearn.svm import SVC\n",
        "\n",
        "from sklearn.metrics import accuracy_score,f1_score,classification_report\n",
        "\n",
        "from sklearn.model_selection import GridSearchCV"
      ]
    },
    {
      "cell_type": "code",
      "execution_count": null,
      "metadata": {
        "id": "cJUPMHdZi060"
      },
      "outputs": [],
      "source": [
        "#데이터 읽기\n",
        "train = pd.read_csv('./Train.csv')\n",
        "test = pd.read_csv('./Test.csv')"
      ]
    },
    {
      "cell_type": "code",
      "execution_count": null,
      "metadata": {},
      "outputs": [],
      "source": [
        "# index drop\n",
        "train = train.drop('Index',axis=1)\n",
        "test = test.drop('Index',axis=1)"
      ]
    },
    {
      "cell_type": "code",
      "execution_count": null,
      "metadata": {
        "id": "HH9s6rR-5eAX"
      },
      "outputs": [],
      "source": [
        "#데이터 분리\n",
        "X_train, X_test, y_train, y_test = train_test_split(train.loc[:,'X0':'X999'], train.iloc[:,-1],test_size=0.2,random_state=100)"
      ]
    },
    {
      "cell_type": "code",
      "execution_count": null,
      "metadata": {
        "colab": {
          "base_uri": "https://localhost:8080/"
        },
        "id": "a3mjUOjaVE8L",
        "outputId": "a97807a9-03c9-4b2d-b12a-16f661dfe2e5"
      },
      "outputs": [],
      "source": [
        "#svm parameter tuning\n",
        "param_dist = {\n",
        "    'C' : [0.001, 0.01, 0.1, 1, 10, 100],\n",
        "    'gamma' : [0.001, 0.01, 0.1, 1, 10, 100]\n",
        "}\n",
        "\n",
        "gs = GridSearchCV(SVC(), param_dist, cv=5,scoring='f1_macro')\n",
        "gs.fit(X_train,y_train)\n",
        "\n",
        "print('test f1 : ', gs.score(X_test, y_test))\n",
        "print('최적의 parameters : ', gs.best_params_)"
      ]
    },
    {
      "cell_type": "code",
      "execution_count": null,
      "metadata": {
        "id": "KBrfNtcrUX5E"
      },
      "outputs": [],
      "source": [
        "def result(X_train, X_test, y_train, y_test):\n",
        "    m1=SVC(kernel=\"rbf\",C=10, gamma=0.01)\n",
        "    m1.fit(X_train,y_train)\n",
        "    y_pred = m1.predict(X_test)\n",
        "    f1 = f1_score(y_test,y_pred,average='binary',pos_label='positive')\n",
        "    return f1"
      ]
    },
    {
      "cell_type": "code",
      "execution_count": null,
      "metadata": {
        "colab": {
          "base_uri": "https://localhost:8080/"
        },
        "id": "TemF-qq5UXkc",
        "outputId": "1ca2e9be-7c57-40c2-ad8d-cdc88e47be3d"
      },
      "outputs": [],
      "source": [
        "#f1-score가 잘 나오는 randomstate 찾기\n",
        "from imblearn.under_sampling import *\n",
        "max=0\n",
        "best=0\n",
        "for i in range(0,101,1):\n",
        "  X_train, X_test, y_train, y_test = train_test_split(train.loc[:,'X0':'X999'], train.iloc[:,-1],test_size=0.2,random_state=i)\n",
        "  X,y = EditedNearestNeighbours(n_neighbors=3).fit_resample(X_train,y_train)\n",
        "  a=result(X, X_test, y, y_test)\n",
        "  if(max<a):\n",
        "    max=a\n",
        "    best=i\n",
        "  print('현재 i: ', i)\n",
        "  print('최고의 random_state: ',best)\n",
        "  print('f1_score: ', max)"
      ]
    },
    {
      "cell_type": "code",
      "execution_count": null,
      "metadata": {
        "id": "z3E1FIu01qn8"
      },
      "outputs": [],
      "source": [
        "#Best randome state로 데이터 분리\n",
        "X_train, X_test, y_train, y_test = train_test_split(train.loc[:,'X0':'X999'], train.iloc[:,-1],test_size=0.2,random_state=30)"
      ]
    },
    {
      "cell_type": "code",
      "execution_count": null,
      "metadata": {
        "id": "QsO8uAkHp09o"
      },
      "outputs": [],
      "source": [
        "reX_train,rey_train = EditedNearestNeighbours(n_neighbors=3).fit_resample(X_train,y_train)"
      ]
    },
    {
      "cell_type": "code",
      "execution_count": null,
      "metadata": {
        "colab": {
          "base_uri": "https://localhost:8080/"
        },
        "id": "MB8bPxI-5rMe",
        "outputId": "6276bbb0-f9fb-4340-f155-81f3346f18db"
      },
      "outputs": [],
      "source": [
        "m=SVC(kernel='rbf',C=10, gamma=0.01)\n",
        "m.fit(reX_train,rey_train)\n",
        "\n",
        "pred_train = m.predict(reX_train)\n",
        "pred_test = m.predict(X_test)\n",
        "\n",
        "print(\"Classificcation Report: \\n{}\".format(classification_report(y_test, pred_test)))"
      ]
    },
    {
      "cell_type": "code",
      "execution_count": null,
      "metadata": {
        "colab": {
          "base_uri": "https://localhost:8080/"
        },
        "id": "oS8AGneaRr8o",
        "outputId": "ac884add-7dba-4106-a8a6-088f4000fc8c"
      },
      "outputs": [],
      "source": [
        "test_X=test.loc[:,'X0':'X999']\n",
        "prediction = m.predict(test_X)\n",
        "\n",
        "print(f'Type : {type(prediction)} | Length : {len(prediction)}')"
      ]
    },
    {
      "cell_type": "code",
      "execution_count": null,
      "metadata": {
        "colab": {
          "base_uri": "https://localhost:8080/"
        },
        "id": "dbZkEBBUGPdT",
        "outputId": "10526376-e043-4001-825d-0e9c6a824dd3"
      },
      "outputs": [],
      "source": [
        "np.unique(prediction, return_counts=True)"
      ]
    },
    {
      "cell_type": "code",
      "execution_count": null,
      "metadata": {
        "id": "UaZ50eq4RvEl"
      },
      "outputs": [],
      "source": [
        "import numpy as np\n",
        "\n",
        "np.savetxt('./알파카.csv', prediction, delimiter=',',fmt='%s')"
      ]
    }
  ],
  "metadata": {
    "accelerator": "GPU",
    "colab": {
      "collapsed_sections": [],
      "name": "2020112485 박정원(알파카).ipynb",
      "provenance": []
    },
    "gpuClass": "standard",
    "kernelspec": {
      "display_name": "base",
      "language": "python",
      "name": "python3"
    },
    "language_info": {
      "codemirror_mode": {
        "name": "ipython",
        "version": 3
      },
      "file_extension": ".py",
      "mimetype": "text/x-python",
      "name": "python",
      "nbconvert_exporter": "python",
      "pygments_lexer": "ipython3",
      "version": "3.9.10 | packaged by conda-forge | (main, Feb  1 2022, 21:27:43) \n[Clang 11.1.0 ]"
    },
    "vscode": {
      "interpreter": {
        "hash": "c6e4e9f98eb68ad3b7c296f83d20e6de614cb42e90992a65aa266555a3137d0d"
      }
    }
  },
  "nbformat": 4,
  "nbformat_minor": 0
}
