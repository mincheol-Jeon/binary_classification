{
 "cells": [
  {
   "attachments": {},
   "cell_type": "markdown",
   "metadata": {},
   "source": [
    "## 머신러닝 프로젝트 제출 방법\n",
    "\n",
    "- 주어진 Train data $(X, y)$를 활용하여 모델 학습\n",
    "- Test $X$를 넣어서 클래스 (target) 예측\n",
    "- 예측한 총 3500개의 클래스를 csv 파일로 저장하여, 파일명 '닉네임.csv'로 제출\n",
    "- 단, 클래스는 Positive, Negative 형식으로 제출 (0과 1로 제출할 시 미제출 처리)\n",
    "- 위 매뉴얼을 준수하지 않거나, 모든 test data에 대하여 레이블을 제출하지 않은 경우 평가가 이루어지지 않을 수 있음\n",
    "\n",
    "- 평가 지표: F1 score\n",
    "\n",
    "- 모든 prediction이 하나의 클래스로 예측하면 (ex. 모두 negative) F1 score가 0이 나올 수도 있음"
   ]
  },
  {
   "cell_type": "code",
   "execution_count": null,
   "metadata": {},
   "outputs": [],
   "source": [
    "import numpy as np\n",
    "\n",
    "'''\n",
    "1.\n",
    "Model 학습 및 prediction 값 추출 \n",
    "\n",
    "Ex)\n",
    "\n",
    "model 학습\n",
    "\n",
    "prediction = model.predict(test_X)\n",
    "\n",
    "2.\n",
    "prediction의 data type 및 개수가 맞는지 확인\n",
    "\n",
    "print(f'Type : {type(prediction)} | Length : {len(prediction)}')\n",
    "\n",
    "-> <class 'numpy.ndarray'> | 3500\n",
    "\n",
    "3.\n",
    "Numpy의 savetxt 함수를 활용하여 csv 파일 생성\n",
    "\n",
    "np.savetxt('닉네임.csv', prediction, delimiter=',')\n",
    "\n",
    "'''"
   ]
  }
 ],
 "metadata": {
  "kernelspec": {
   "display_name": "eunjae",
   "language": "python",
   "name": "python3"
  },
  "language_info": {
   "codemirror_mode": {
    "name": "ipython",
    "version": 3
   },
   "file_extension": ".py",
   "mimetype": "text/x-python",
   "name": "python",
   "nbconvert_exporter": "python",
   "pygments_lexer": "ipython3",
   "version": "3.11.0 | packaged by conda-forge | (main, Jan 16 2023, 14:12:30) [MSC v.1916 64 bit (AMD64)]"
  },
  "orig_nbformat": 4,
  "vscode": {
   "interpreter": {
    "hash": "0da17481d9a031fa194c014ac5f665ad53fa35ba7b26e4a1236e28344a2b4fae"
   }
  }
 },
 "nbformat": 4,
 "nbformat_minor": 2
}
